{
 "cells": [
  {
   "cell_type": "raw",
   "metadata": {},
   "source": [
    "---\n",
    "title: \"Ejercicios\"\n",
    "format: html\n",
    "---"
   ]
  },
  {
   "attachments": {},
   "cell_type": "markdown",
   "metadata": {},
   "source": [
    "Problemas\n",
    "\n",
    "\n",
    " * En el espacio vectorial real $C(1,e)$, definimos la función \n",
    "  $<f,g>=\\int_1^e(\\log x)(f(x)g(x))\\, dx$\n",
    "    \n",
    "    *  Pruebe que esta función es un producto interno\n",
    "\n",
    "    * Si $f(x)=\\sqrt{x}$, calcular $||f||$\n",
    "\n",
    "    * Hallar el polinomio de primer grado $ax+b$ que sea ortogonal a la función constante $f(x)=1$\n",
    "    \n",
    "    \n",
    "* En el espacio vectorial de todas las funciones polinómicas reales, determinar si $$<f,g>=\\int_0^1f'(x)g'(x)\\, dx.$$ es o no un producto\n",
    "interno. En el caso que $<f,g>$ no es un producto interno, indicar que axiomas no son respetados y el por que. $f'$ y $g'$ indican derivadas.\n",
    "\n",
    "* En espacio vectorial de todos los polinomios reales, con producto interno $<x,y>=\\int_0^1x(t)y(t)\\,dt$, sea $x_n=t^n$ para $n=0,1,2,...$. Demostrar que las funciones \n",
    "\n",
    "$$y_0(t)=1,\\quad\\, \\, y_1(t)=\\sqrt{3}(2t-1),\\quad\\,\\,y_2(t)=\\sqrt{5}(6t^2-6t+1)$$ \n",
    "\n",
    "forman un conjunto ortogonal que generan el mismo subespacio que $\\{x_0,x_1,x_2\\}$\n",
    "\n",
    "\n",
    "\n",
    "\n",
    "* Sea $\\mathbb{R}^n$ un espacio vectorial, Compruebe o refute si las siguientes relaciones forman un producto interno::\n",
    "\n",
    "    *   $x \\cdot y = \\sum_{i=1}^ne^{2} x_i y_i$\n",
    "    *   $x \\cdot y =x_1y_1 − x_1y_2 − x_2y_1 +\\alpha x_2y_2$, para $n=2$ y $\\alpha \\in \\mathbb{R}$\n",
    "    *   $x \\cdot y = \\sum_{i=1}^{n/2} x_{2i} y_{2i} -\\sum_{i=1}^{n/2} x_{2i-1} y_{2i-1}$\n",
    "\n",
    "* Denuestre que si $V$ y $W$ son dos subespacios ortogonales de un espacio vectorial $E$, entonces $V\\cap W=0$\n",
    "\n",
    "* Encuentre un vector $x$ ortogonal al espacio de filas de $A$, y un vector $y$ ortogonal al espacio de columnas, y un vector $z$ ortogonal al nulo de $A$:\n",
    "$$A=\\begin{bmatrix} 1 & 2 & 1 \\\\ 2 & 4 & 3 \\\\ 3 & 6 & 4 \\end{bmatrix}$$\n",
    "\n",
    "* Muestre que si $x-y$ es ortogonal a $x+y$, si y solo si $||x||=||y||$\n",
    "\n",
    "* Sea $P$ un plano en $\\mathbb{R}^2$ con ecuación $x+2y-z=0$. Encuentre un vector unitario perpendicular a $P$.¿Cual es la matriz que tiene el plano $P$ como su espacio nulo?, y cual matriz tiene $P$ como su espacio columna?\n",
    "\n",
    "* Cual de los siguientes estamentos son falsos\n",
    "    * Si $V$ es ortogonal a $W$, entonces $V^{\\perp}$ es ortogonal a $W^{\\perp}$\n",
    "    * Si es ortogonal a $W$, y $W$ es ortogonal a $Z$, entonces $V$ es ortogonal a $Z$"
   ]
  }
 ],
 "metadata": {
  "kernelspec": {
   "display_name": "class",
   "language": "python",
   "name": "python3"
  },
  "language_info": {
   "name": "python",
   "version": "3.11.0"
  },
  "orig_nbformat": 4,
  "vscode": {
   "interpreter": {
    "hash": "375ad710b20ef33f4eaad920b374f2dcdc44819e8e01112ab4c5bbb7fbb3e30e"
   }
  }
 },
 "nbformat": 4,
 "nbformat_minor": 2
}
